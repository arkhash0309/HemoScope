{
 "cells": [
  {
   "cell_type": "markdown",
   "metadata": {},
   "source": [
    "<h1 style=\"text-align:center\">HemoScope: Classifying Anaemia types</h1>"
   ]
  },
  {
   "cell_type": "code",
   "execution_count": 3,
   "metadata": {},
   "outputs": [],
   "source": [
    "import warnings\n",
    "warnings.filterwarnings('ignore')"
   ]
  },
  {
   "cell_type": "code",
   "execution_count": 4,
   "metadata": {},
   "outputs": [],
   "source": [
    "import os\n",
    "import pandas as pd\n",
    "import numpy as np\n",
    "import matplotlib.pyplot as plt\n",
    "import seaborn as sns"
   ]
  },
  {
   "cell_type": "code",
   "execution_count": 5,
   "metadata": {},
   "outputs": [
    {
     "data": {
      "text/html": [
       "<div>\n",
       "<style scoped>\n",
       "    .dataframe tbody tr th:only-of-type {\n",
       "        vertical-align: middle;\n",
       "    }\n",
       "\n",
       "    .dataframe tbody tr th {\n",
       "        vertical-align: top;\n",
       "    }\n",
       "\n",
       "    .dataframe thead th {\n",
       "        text-align: right;\n",
       "    }\n",
       "</style>\n",
       "<table border=\"1\" class=\"dataframe\">\n",
       "  <thead>\n",
       "    <tr style=\"text-align: right;\">\n",
       "      <th></th>\n",
       "      <th>WBC</th>\n",
       "      <th>LYMp</th>\n",
       "      <th>NEUTp</th>\n",
       "      <th>LYMn</th>\n",
       "      <th>NEUTn</th>\n",
       "      <th>RBC</th>\n",
       "      <th>HGB</th>\n",
       "      <th>HCT</th>\n",
       "      <th>MCV</th>\n",
       "      <th>MCH</th>\n",
       "      <th>MCHC</th>\n",
       "      <th>PLT</th>\n",
       "      <th>PDW</th>\n",
       "      <th>PCT</th>\n",
       "      <th>Diagnosis</th>\n",
       "    </tr>\n",
       "  </thead>\n",
       "  <tbody>\n",
       "    <tr>\n",
       "      <th>0</th>\n",
       "      <td>10.00</td>\n",
       "      <td>43.200</td>\n",
       "      <td>50.100</td>\n",
       "      <td>4.30000</td>\n",
       "      <td>5.00000</td>\n",
       "      <td>2.77</td>\n",
       "      <td>7.3</td>\n",
       "      <td>24.2000</td>\n",
       "      <td>87.7</td>\n",
       "      <td>26.3</td>\n",
       "      <td>30.1</td>\n",
       "      <td>189.0</td>\n",
       "      <td>12.500000</td>\n",
       "      <td>0.17000</td>\n",
       "      <td>Normocytic hypochromic anemia</td>\n",
       "    </tr>\n",
       "    <tr>\n",
       "      <th>1</th>\n",
       "      <td>10.00</td>\n",
       "      <td>42.400</td>\n",
       "      <td>52.300</td>\n",
       "      <td>4.20000</td>\n",
       "      <td>5.30000</td>\n",
       "      <td>2.84</td>\n",
       "      <td>7.3</td>\n",
       "      <td>25.0000</td>\n",
       "      <td>88.2</td>\n",
       "      <td>25.7</td>\n",
       "      <td>20.2</td>\n",
       "      <td>180.0</td>\n",
       "      <td>12.500000</td>\n",
       "      <td>0.16000</td>\n",
       "      <td>Normocytic hypochromic anemia</td>\n",
       "    </tr>\n",
       "    <tr>\n",
       "      <th>2</th>\n",
       "      <td>7.20</td>\n",
       "      <td>30.700</td>\n",
       "      <td>60.700</td>\n",
       "      <td>2.20000</td>\n",
       "      <td>4.40000</td>\n",
       "      <td>3.97</td>\n",
       "      <td>9.0</td>\n",
       "      <td>30.5000</td>\n",
       "      <td>77.0</td>\n",
       "      <td>22.6</td>\n",
       "      <td>29.5</td>\n",
       "      <td>148.0</td>\n",
       "      <td>14.300000</td>\n",
       "      <td>0.14000</td>\n",
       "      <td>Iron deficiency anemia</td>\n",
       "    </tr>\n",
       "    <tr>\n",
       "      <th>3</th>\n",
       "      <td>6.00</td>\n",
       "      <td>30.200</td>\n",
       "      <td>63.500</td>\n",
       "      <td>1.80000</td>\n",
       "      <td>3.80000</td>\n",
       "      <td>4.22</td>\n",
       "      <td>3.8</td>\n",
       "      <td>32.8000</td>\n",
       "      <td>77.9</td>\n",
       "      <td>23.2</td>\n",
       "      <td>29.8</td>\n",
       "      <td>143.0</td>\n",
       "      <td>11.300000</td>\n",
       "      <td>0.12000</td>\n",
       "      <td>Iron deficiency anemia</td>\n",
       "    </tr>\n",
       "    <tr>\n",
       "      <th>4</th>\n",
       "      <td>4.20</td>\n",
       "      <td>39.100</td>\n",
       "      <td>53.700</td>\n",
       "      <td>1.60000</td>\n",
       "      <td>2.30000</td>\n",
       "      <td>3.93</td>\n",
       "      <td>0.4</td>\n",
       "      <td>316.0000</td>\n",
       "      <td>80.6</td>\n",
       "      <td>23.9</td>\n",
       "      <td>29.7</td>\n",
       "      <td>236.0</td>\n",
       "      <td>12.800000</td>\n",
       "      <td>0.22000</td>\n",
       "      <td>Normocytic hypochromic anemia</td>\n",
       "    </tr>\n",
       "    <tr>\n",
       "      <th>...</th>\n",
       "      <td>...</td>\n",
       "      <td>...</td>\n",
       "      <td>...</td>\n",
       "      <td>...</td>\n",
       "      <td>...</td>\n",
       "      <td>...</td>\n",
       "      <td>...</td>\n",
       "      <td>...</td>\n",
       "      <td>...</td>\n",
       "      <td>...</td>\n",
       "      <td>...</td>\n",
       "      <td>...</td>\n",
       "      <td>...</td>\n",
       "      <td>...</td>\n",
       "      <td>...</td>\n",
       "    </tr>\n",
       "    <tr>\n",
       "      <th>1276</th>\n",
       "      <td>4.40</td>\n",
       "      <td>25.845</td>\n",
       "      <td>77.511</td>\n",
       "      <td>1.88076</td>\n",
       "      <td>5.14094</td>\n",
       "      <td>4.86</td>\n",
       "      <td>13.5</td>\n",
       "      <td>46.1526</td>\n",
       "      <td>80.7</td>\n",
       "      <td>27.7</td>\n",
       "      <td>34.4</td>\n",
       "      <td>180.0</td>\n",
       "      <td>14.312512</td>\n",
       "      <td>0.26028</td>\n",
       "      <td>Healthy</td>\n",
       "    </tr>\n",
       "    <tr>\n",
       "      <th>1277</th>\n",
       "      <td>5.60</td>\n",
       "      <td>25.845</td>\n",
       "      <td>77.511</td>\n",
       "      <td>1.88076</td>\n",
       "      <td>5.14094</td>\n",
       "      <td>4.85</td>\n",
       "      <td>15.0</td>\n",
       "      <td>46.1526</td>\n",
       "      <td>91.7</td>\n",
       "      <td>31.0</td>\n",
       "      <td>33.8</td>\n",
       "      <td>215.0</td>\n",
       "      <td>14.312512</td>\n",
       "      <td>0.26028</td>\n",
       "      <td>Healthy</td>\n",
       "    </tr>\n",
       "    <tr>\n",
       "      <th>1278</th>\n",
       "      <td>9.20</td>\n",
       "      <td>25.845</td>\n",
       "      <td>77.511</td>\n",
       "      <td>1.88076</td>\n",
       "      <td>5.14094</td>\n",
       "      <td>4.47</td>\n",
       "      <td>13.1</td>\n",
       "      <td>46.1526</td>\n",
       "      <td>88.7</td>\n",
       "      <td>29.3</td>\n",
       "      <td>33.0</td>\n",
       "      <td>329.0</td>\n",
       "      <td>14.312512</td>\n",
       "      <td>0.26028</td>\n",
       "      <td>Healthy</td>\n",
       "    </tr>\n",
       "    <tr>\n",
       "      <th>1279</th>\n",
       "      <td>6.48</td>\n",
       "      <td>25.845</td>\n",
       "      <td>77.511</td>\n",
       "      <td>1.88076</td>\n",
       "      <td>5.14094</td>\n",
       "      <td>4.75</td>\n",
       "      <td>13.2</td>\n",
       "      <td>46.1526</td>\n",
       "      <td>86.7</td>\n",
       "      <td>27.9</td>\n",
       "      <td>32.1</td>\n",
       "      <td>174.0</td>\n",
       "      <td>14.312512</td>\n",
       "      <td>0.26028</td>\n",
       "      <td>Healthy</td>\n",
       "    </tr>\n",
       "    <tr>\n",
       "      <th>1280</th>\n",
       "      <td>8.80</td>\n",
       "      <td>25.845</td>\n",
       "      <td>77.511</td>\n",
       "      <td>1.88076</td>\n",
       "      <td>5.14094</td>\n",
       "      <td>4.95</td>\n",
       "      <td>15.2</td>\n",
       "      <td>46.1526</td>\n",
       "      <td>89.7</td>\n",
       "      <td>30.6</td>\n",
       "      <td>34.2</td>\n",
       "      <td>279.0</td>\n",
       "      <td>14.312512</td>\n",
       "      <td>0.26028</td>\n",
       "      <td>Healthy</td>\n",
       "    </tr>\n",
       "  </tbody>\n",
       "</table>\n",
       "<p>1281 rows × 15 columns</p>\n",
       "</div>"
      ],
      "text/plain": [
       "        WBC    LYMp   NEUTp     LYMn    NEUTn   RBC   HGB       HCT   MCV  \\\n",
       "0     10.00  43.200  50.100  4.30000  5.00000  2.77   7.3   24.2000  87.7   \n",
       "1     10.00  42.400  52.300  4.20000  5.30000  2.84   7.3   25.0000  88.2   \n",
       "2      7.20  30.700  60.700  2.20000  4.40000  3.97   9.0   30.5000  77.0   \n",
       "3      6.00  30.200  63.500  1.80000  3.80000  4.22   3.8   32.8000  77.9   \n",
       "4      4.20  39.100  53.700  1.60000  2.30000  3.93   0.4  316.0000  80.6   \n",
       "...     ...     ...     ...      ...      ...   ...   ...       ...   ...   \n",
       "1276   4.40  25.845  77.511  1.88076  5.14094  4.86  13.5   46.1526  80.7   \n",
       "1277   5.60  25.845  77.511  1.88076  5.14094  4.85  15.0   46.1526  91.7   \n",
       "1278   9.20  25.845  77.511  1.88076  5.14094  4.47  13.1   46.1526  88.7   \n",
       "1279   6.48  25.845  77.511  1.88076  5.14094  4.75  13.2   46.1526  86.7   \n",
       "1280   8.80  25.845  77.511  1.88076  5.14094  4.95  15.2   46.1526  89.7   \n",
       "\n",
       "       MCH  MCHC    PLT        PDW      PCT                      Diagnosis  \n",
       "0     26.3  30.1  189.0  12.500000  0.17000  Normocytic hypochromic anemia  \n",
       "1     25.7  20.2  180.0  12.500000  0.16000  Normocytic hypochromic anemia  \n",
       "2     22.6  29.5  148.0  14.300000  0.14000         Iron deficiency anemia  \n",
       "3     23.2  29.8  143.0  11.300000  0.12000         Iron deficiency anemia  \n",
       "4     23.9  29.7  236.0  12.800000  0.22000  Normocytic hypochromic anemia  \n",
       "...    ...   ...    ...        ...      ...                            ...  \n",
       "1276  27.7  34.4  180.0  14.312512  0.26028                        Healthy  \n",
       "1277  31.0  33.8  215.0  14.312512  0.26028                        Healthy  \n",
       "1278  29.3  33.0  329.0  14.312512  0.26028                        Healthy  \n",
       "1279  27.9  32.1  174.0  14.312512  0.26028                        Healthy  \n",
       "1280  30.6  34.2  279.0  14.312512  0.26028                        Healthy  \n",
       "\n",
       "[1281 rows x 15 columns]"
      ]
     },
     "execution_count": 5,
     "metadata": {},
     "output_type": "execute_result"
    }
   ],
   "source": [
    "df = pd.read_csv(\"Anaemic_data.csv\")\n",
    "df"
   ]
  },
  {
   "cell_type": "markdown",
   "metadata": {},
   "source": [
    "# Data Preprocessing"
   ]
  },
  {
   "cell_type": "code",
   "execution_count": 6,
   "metadata": {},
   "outputs": [
    {
     "name": "stdout",
     "output_type": "stream",
     "text": [
      "Number of data points: 1281\n",
      "Number of features: 15\n"
     ]
    }
   ],
   "source": [
    "rows = df.shape[0]\n",
    "columns = df.shape[1]\n",
    "\n",
    "print(f\"Number of data points: {rows}\")\n",
    "print(f\"Number of features: {columns}\")"
   ]
  },
  {
   "cell_type": "code",
   "execution_count": 7,
   "metadata": {},
   "outputs": [
    {
     "data": {
      "text/plain": [
       "WBC          float64\n",
       "LYMp         float64\n",
       "NEUTp        float64\n",
       "LYMn         float64\n",
       "NEUTn        float64\n",
       "RBC          float64\n",
       "HGB          float64\n",
       "HCT          float64\n",
       "MCV          float64\n",
       "MCH          float64\n",
       "MCHC         float64\n",
       "PLT          float64\n",
       "PDW          float64\n",
       "PCT          float64\n",
       "Diagnosis     object\n",
       "dtype: object"
      ]
     },
     "execution_count": 7,
     "metadata": {},
     "output_type": "execute_result"
    }
   ],
   "source": [
    "df.dtypes"
   ]
  },
  {
   "cell_type": "code",
   "execution_count": 8,
   "metadata": {},
   "outputs": [
    {
     "data": {
      "text/plain": [
       "WBC          0\n",
       "LYMp         0\n",
       "NEUTp        0\n",
       "LYMn         0\n",
       "NEUTn        0\n",
       "RBC          0\n",
       "HGB          0\n",
       "HCT          0\n",
       "MCV          0\n",
       "MCH          0\n",
       "MCHC         0\n",
       "PLT          0\n",
       "PDW          0\n",
       "PCT          0\n",
       "Diagnosis    0\n",
       "dtype: int64"
      ]
     },
     "execution_count": 8,
     "metadata": {},
     "output_type": "execute_result"
    }
   ],
   "source": [
    "df.isnull().sum()"
   ]
  },
  {
   "cell_type": "markdown",
   "metadata": {},
   "source": [
    "No null values in the dataset"
   ]
  },
  {
   "cell_type": "code",
   "execution_count": 13,
   "metadata": {},
   "outputs": [
    {
     "name": "stdout",
     "output_type": "stream",
     "text": [
      "Number of classes in Diagnosis column: 9\n"
     ]
    }
   ],
   "source": [
    "unique_vals = df[\"Diagnosis\"].nunique()\n",
    "\n",
    "print(f\"Number of classes in Diagnosis column: {unique_vals}\")"
   ]
  },
  {
   "cell_type": "markdown",
   "metadata": {},
   "source": [
    "# Data Visualization"
   ]
  },
  {
   "cell_type": "code",
   "execution_count": 15,
   "metadata": {},
   "outputs": [
    {
     "data": {
      "image/png": "[encoded data removed]",
      "text/plain": [
       "<Figure size 1000x600 with 1 Axes>"
      ]
     },
     "metadata": {},
     "output_type": "display_data"
    }
   ],
   "source": [
    "plt.figure(figsize=(10, 6))\n",
    "sns.countplot(df[\"Diagnosis\"], color='red')\n",
    "plt.show()"
   ]
  },
  {
   "cell_type": "markdown",
   "metadata": {},
   "source": [
    "The majority class is Healthy and the minority class is Leukemia with thrombocytopenia."
   ]
  }
 ],
 "metadata": {
  "kernelspec": {
   "display_name": "Python 3",
   "language": "python",
   "name": "python3"
  },
  "language_info": {
   "codemirror_mode": {
    "name": "ipython",
    "version": 3
   },
   "file_extension": ".py",
   "mimetype": "text/x-python",
   "name": "python",
   "nbconvert_exporter": "python",
   "pygments_lexer": "ipython3",
   "version": "3.12.0"
  }
 },
 "nbformat": 4,
 "nbformat_minor": 2
}
